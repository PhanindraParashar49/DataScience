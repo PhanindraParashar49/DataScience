{
 "cells": [
  {
   "cell_type": "code",
   "execution_count": 2,
   "id": "b9fd2ba2",
   "metadata": {},
   "outputs": [],
   "source": [
    "import torch\n",
    "import numpy as np\n",
    "from torch import nn\n",
    "from torch import optim\n",
    "from torchvision import datasets\n",
    "from torchvision.transforms import ToTensor"
   ]
  },
  {
   "cell_type": "code",
   "execution_count": 5,
   "id": "f47daa39",
   "metadata": {},
   "outputs": [],
   "source": [
    "train_data = datasets.MNIST('data', train=True, download=True, transform=ToTensor())\n",
    "train, val = torch.utils.data.random_split(train_data, [55000, 5000])\n",
    "train_loader = torch.utils.data.DataLoader(train, batch_size=32)\n",
    "val_loader = torch.utils.data.DataLoader(val, batch_size=32)"
   ]
  },
  {
   "cell_type": "code",
   "execution_count": 10,
   "id": "e81bb51b",
   "metadata": {},
   "outputs": [
    {
     "name": "stdout",
     "output_type": "stream",
     "text": [
      "Using mps device\n"
     ]
    },
    {
     "data": {
      "text/plain": [
       "Sequential(\n",
       "  (0): Linear(in_features=784, out_features=64, bias=True)\n",
       "  (1): ReLU()\n",
       "  (2): Linear(in_features=64, out_features=64, bias=True)\n",
       "  (3): ReLU()\n",
       "  (4): Linear(in_features=64, out_features=10, bias=True)\n",
       ")"
      ]
     },
     "execution_count": 10,
     "metadata": {},
     "output_type": "execute_result"
    }
   ],
   "source": [
    "model = nn.Sequential(\n",
    "    nn.Linear(28*28,64),\n",
    "    nn.ReLU(),\n",
    "    nn.Linear(64,64),\n",
    "    nn.ReLU(),\n",
    "    nn.Linear(64,10)\n",
    ")\n",
    "\n",
    "# move model to GPU, if available mps device\n",
    "device = torch.device(\"mps\")\n",
    "print(\"Using {} device\".format(device))\n",
    "model.to(device)"
   ]
  },
  {
   "cell_type": "code",
   "execution_count": 11,
   "id": "b258cb51",
   "metadata": {},
   "outputs": [],
   "source": [
    "optimizer = optim.SGD(model.parameters(),lr=1e-2)\n",
    "loss = nn.CrossEntropyLoss()\n"
   ]
  },
  {
   "cell_type": "code",
   "execution_count": 12,
   "id": "4ddd8ab3",
   "metadata": {},
   "outputs": [
    {
     "name": "stdout",
     "output_type": "stream",
     "text": [
      "Epoch: 1, Train Loss: 1.19\n",
      "Epoch: 2, Train Loss: 0.40\n",
      "Epoch: 3, Train Loss: 0.33\n",
      "Epoch: 4, Train Loss: 0.29\n",
      "Epoch: 5, Train Loss: 0.26\n",
      "Validation Loss: 0.27\n"
     ]
    }
   ],
   "source": [
    "# training loop\n",
    "nb_epochs = 5\n",
    "for epoch in range(nb_epochs):\n",
    "    losses = []\n",
    "    for batch in train_loader:\n",
    "        x,y = batch\n",
    "        b = x.size(0)\n",
    "        x = x.view(b,-1).to(device)\n",
    "        \n",
    "        l = model(x)\n",
    "        \n",
    "        J = loss(l,y.to(device))\n",
    "        \n",
    "        optimizer.zero_grad()\n",
    "        \n",
    "        J.backward()\n",
    "        \n",
    "        optimizer.step()\n",
    "        \n",
    "        losses.append(J.item())\n",
    "        \n",
    "    print(f'Epoch: {epoch+1}, Train Loss: {torch.tensor(losses).mean():.2f}')\n",
    "    \n",
    "# validation loop\n",
    "losses = []\n",
    "for batch in val_loader:\n",
    "    x,y = batch\n",
    "    b = x.size(0)\n",
    "    x = x.view(b,-1).to(device)\n",
    "    \n",
    "    with torch.no_grad():\n",
    "        l = model(x)\n",
    "        J = loss(l,y.to(device))\n",
    "        losses.append(J.item())\n",
    "print(f'Validation Loss: {torch.tensor(losses).mean():.2f}')"
   ]
  },
  {
   "cell_type": "code",
   "execution_count": null,
   "id": "f893cf48",
   "metadata": {},
   "outputs": [],
   "source": []
  },
  {
   "cell_type": "code",
   "execution_count": null,
   "id": "0c517229",
   "metadata": {},
   "outputs": [],
   "source": []
  }
 ],
 "metadata": {
  "kernelspec": {
   "display_name": "Python 3 (ipykernel)",
   "language": "python",
   "name": "python3"
  },
  "language_info": {
   "codemirror_mode": {
    "name": "ipython",
    "version": 3
   },
   "file_extension": ".py",
   "mimetype": "text/x-python",
   "name": "python",
   "nbconvert_exporter": "python",
   "pygments_lexer": "ipython3",
   "version": "3.8.16"
  }
 },
 "nbformat": 4,
 "nbformat_minor": 5
}
